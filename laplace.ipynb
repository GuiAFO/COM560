{
  "nbformat": 4,
  "nbformat_minor": 0,
  "metadata": {
    "colab": {
      "provenance": [],
      "include_colab_link": true
    },
    "kernelspec": {
      "name": "python3",
      "display_name": "Python 3"
    },
    "language_info": {
      "name": "python"
    }
  },
  "cells": [
    {
      "cell_type": "markdown",
      "metadata": {
        "id": "view-in-github",
        "colab_type": "text"
      },
      "source": [
        "<a href=\"https://colab.research.google.com/github/GuiAFO/COM560/blob/main/laplace.ipynb\" target=\"_parent\"><img src=\"https://colab.research.google.com/assets/colab-badge.svg\" alt=\"Open In Colab\"/></a>"
      ]
    },
    {
      "cell_type": "code",
      "execution_count": null,
      "metadata": {
        "id": "U7olQ399uYBy"
      },
      "outputs": [],
      "source": [
        "# pacote simbólico\n",
        "import sympy\n",
        "sympy.init_printing()\n",
        "\n",
        "# geração dos símbolos\n",
        "# s: variável de Laplace\n",
        "# t: tempo\n",
        "s, t = sympy.symbols('s t')"
      ]
    },
    {
      "cell_type": "code",
      "source": [
        "# Função Transformada de Laplace\n",
        "def L(f):\n",
        "    return sympy.laplace_transform(f, t, s, noconds=True)\n",
        "\n",
        "# Função Transformada de Laplace Inversa\n",
        "def invL(F):\n",
        "    return sympy.inverse_laplace_transform(F, s, t)"
      ],
      "metadata": {
        "id": "tz581rNxunZQ"
      },
      "execution_count": null,
      "outputs": []
    },
    {
      "cell_type": "code",
      "source": [
        "# Tranformada de Laplace da entrada exp(-2*t)*2\n",
        "F = L(sympy.exp(-2*t)*2)\n",
        "F"
      ],
      "metadata": {
        "colab": {
          "base_uri": "https://localhost:8080/",
          "height": 52
        },
        "id": "h0ZKtmRJupnY",
        "outputId": "1512cb88-d609-4ffe-fa0d-44ec73a5b8d7"
      },
      "execution_count": null,
      "outputs": [
        {
          "output_type": "execute_result",
          "data": {
            "text/plain": [
              "  2  \n",
              "─────\n",
              "s + 2"
            ],
            "image/png": "[encoded data removed]",
            "text/latex": "$\\displaystyle \\frac{2}{s + 2}$"
          },
          "metadata": {},
          "execution_count": 13
        }
      ]
    },
    {
      "cell_type": "code",
      "source": [
        "# Função Transferência do sistema\n",
        "G = 1/(s**2 + 5*s + 4)\n",
        "G"
      ],
      "metadata": {
        "colab": {
          "base_uri": "https://localhost:8080/",
          "height": 52
        },
        "id": "mLEdUKkKxP02",
        "outputId": "62e02587-39db-4e6c-f4f1-0a75256c450c"
      },
      "execution_count": null,
      "outputs": [
        {
          "output_type": "execute_result",
          "data": {
            "text/plain": [
              "     1      \n",
              "────────────\n",
              " 2          \n",
              "s  + 5⋅s + 4"
            ],
            "image/png": "[encoded data removed]",
            "text/latex": "$\\displaystyle \\frac{1}{s^{2} + 5 s + 4}$"
          },
          "metadata": {},
          "execution_count": 14
        }
      ]
    },
    {
      "cell_type": "code",
      "source": [
        "# resposta descrita no Domínio de Laplace\n",
        "X = G*F\n",
        "X"
      ],
      "metadata": {
        "colab": {
          "base_uri": "https://localhost:8080/",
          "height": 55
        },
        "id": "ZL87miHlxmYd",
        "outputId": "5b9a13a4-bfc8-4007-ecc0-f7bd80385bee"
      },
      "execution_count": null,
      "outputs": [
        {
          "output_type": "execute_result",
          "data": {
            "text/plain": [
              "          2           \n",
              "──────────────────────\n",
              "        ⎛ 2          ⎞\n",
              "(s + 2)⋅⎝s  + 5⋅s + 4⎠"
            ],
            "image/png": "[encoded data removed]",
            "text/latex": "$\\displaystyle \\frac{2}{\\left(s + 2\\right) \\left(s^{2} + 5 s + 4\\right)}$"
          },
          "metadata": {},
          "execution_count": 15
        }
      ]
    },
    {
      "cell_type": "code",
      "source": [
        "# Expansão em Frações Parciais da resposta\n",
        "X.apart(s)"
      ],
      "metadata": {
        "colab": {
          "base_uri": "https://localhost:8080/",
          "height": 55
        },
        "id": "2TX04JYyx19l",
        "outputId": "09f94e30-1dd1-414b-c55e-4883c8b195a7"
      },
      "execution_count": null,
      "outputs": [
        {
          "output_type": "execute_result",
          "data": {
            "text/plain": [
              "    1         1         2    \n",
              "───────── - ───── + ─────────\n",
              "3⋅(s + 4)   s + 2   3⋅(s + 1)"
            ],
            "image/png": "[encoded data removed]",
            "text/latex": "$\\displaystyle \\frac{1}{3 \\left(s + 4\\right)} - \\frac{1}{s + 2} + \\frac{2}{3 \\left(s + 1\\right)}$"
          },
          "metadata": {},
          "execution_count": 16
        }
      ]
    },
    {
      "cell_type": "code",
      "source": [
        "# resposta temporal via Transformada Inversa de Laplace\n",
        "\n",
        "invL(X)\n"
      ],
      "metadata": {
        "colab": {
          "base_uri": "https://localhost:8080/",
          "height": 56
        },
        "id": "PpO9kJNuv1ef",
        "outputId": "4df5439d-3e13-4f23-8ac6-5318ad33c18d"
      },
      "execution_count": null,
      "outputs": [
        {
          "output_type": "execute_result",
          "data": {
            "text/plain": [
              "⎛   3⋅t      2⋅t    ⎞  -4⋅t     \n",
              "⎝2⋅ℯ    - 3⋅ℯ    + 1⎠⋅ℯ    ⋅θ(t)\n",
              "────────────────────────────────\n",
              "               3                "
            ],
            "image/png": "[encoded data removed]",
            "text/latex": "$\\displaystyle \\frac{\\left(2 e^{3 t} - 3 e^{2 t} + 1\\right) e^{- 4 t} \\theta\\left(t\\right)}{3}$"
          },
          "metadata": {},
          "execution_count": 17
        }
      ]
    },
    {
      "cell_type": "code",
      "source": [
        "# pacote para plotar gráficos\n",
        "import matplotlib.pyplot as plt\n",
        "import numpy as np\n",
        "\n",
        "plt.rcParams['figure.figsize'] = (10,10) # tamanho do gráfico\n",
        "plt.rcParams['font.size'] = 14 # tamanho da letra"
      ],
      "metadata": {
        "id": "otBSOFX-a723"
      },
      "execution_count": null,
      "outputs": []
    },
    {
      "cell_type": "code",
      "source": [
        "# plotar a resposta encontrada\n",
        "t = np.linspace(0, 20, 1001) # vetor tempo de 0 a 20 segundos com 1001 pontos\n",
        "u = 2/3*(np.exp(-1*t))-1*(np.exp(-2*t))+1/3*(np.exp(-4*t)) # vetor resposta de acordo com o simbólico\n",
        "\n",
        "# figura\n",
        "plt.plot(t, u, 'r', linewidth=2, label='resposta')\n",
        "plt.legend(loc='best', shadow=True, framealpha=1)\n",
        "plt.grid(alpha=0.1)\n",
        "plt.ylabel('posição (m)')\n",
        "plt.xlabel('tempo (s)')\n",
        "plt.show()"
      ],
      "metadata": {
        "colab": {
          "base_uri": "https://localhost:8080/",
          "height": 614
        },
        "id": "dxbV5tGMbbY3",
        "outputId": "e76ec3e0-2191-4fea-d042-01f76db37ee4"
      },
      "execution_count": null,
      "outputs": [
        {
          "output_type": "display_data",
          "data": {
            "text/plain": [
              "<Figure size 720x720 with 1 Axes>"
            ],
            "image/png": "[encoded data removed]"
          },
          "metadata": {
            "needs_background": "light"
          }
        }
      ]
    }
  ]
}